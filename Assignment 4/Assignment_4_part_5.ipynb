{
  "nbformat": 4,
  "nbformat_minor": 0,
  "metadata": {
    "colab": {
      "name": "Assignment 4 part 5.ipynb",
      "provenance": []
    },
    "kernelspec": {
      "name": "python3",
      "display_name": "Python 3"
    }
  },
  "cells": [
    {
      "cell_type": "code",
      "metadata": {
        "id": "rsANYpBWiSXB",
        "colab_type": "code",
        "colab": {
          "base_uri": "https://localhost:8080/",
          "height": 34
        },
        "outputId": "0dc5aa4c-aeae-4a8f-c8d4-f0397fe1df7d"
      },
      "source": [
        "from google.colab import drive\n",
        "drive.mount('/content/gdrive')"
      ],
      "execution_count": null,
      "outputs": [
        {
          "output_type": "stream",
          "text": [
            "Drive already mounted at /content/gdrive; to attempt to forcibly remount, call drive.mount(\"/content/gdrive\", force_remount=True).\n"
          ],
          "name": "stdout"
        }
      ]
    },
    {
      "cell_type": "code",
      "metadata": {
        "id": "Tzg9g1_jic3Q",
        "colab_type": "code",
        "colab": {
          "base_uri": "https://localhost:8080/",
          "height": 34
        },
        "outputId": "93a5c14b-32c2-4418-f8f2-eb1c329ec0ea"
      },
      "source": [
        "%cd /content/gdrive/My Drive/Assignment 4"
      ],
      "execution_count": null,
      "outputs": [
        {
          "output_type": "stream",
          "text": [
            "/content/gdrive/My Drive/Assignment 4\n"
          ],
          "name": "stdout"
        }
      ]
    },
    {
      "cell_type": "code",
      "metadata": {
        "id": "CPHy-1yginyD",
        "colab_type": "code",
        "colab": {
          "base_uri": "https://localhost:8080/",
          "height": 34
        },
        "outputId": "2711194f-bd92-4049-94de-16a9d113b913"
      },
      "source": [
        "import gensim\n",
        "import pandas as pd\n",
        "import csv\n",
        "from gensim.parsing.preprocessing import STOPWORDS\n",
        "import re\n",
        "from gensim import models\n",
        "import matplotlib.pyplot as plt\n",
        "csv.field_size_limit(1000000000)"
      ],
      "execution_count": null,
      "outputs": [
        {
          "output_type": "execute_result",
          "data": {
            "text/plain": [
              "1000000000"
            ]
          },
          "metadata": {
            "tags": []
          },
          "execution_count": 89
        }
      ]
    },
    {
      "cell_type": "code",
      "metadata": {
        "id": "mAYr2hc0irUZ",
        "colab_type": "code",
        "colab": {}
      },
      "source": [
        "df = pd.read_csv(\"ap.csv\",names = ['article_num','article'])"
      ],
      "execution_count": null,
      "outputs": []
    },
    {
      "cell_type": "code",
      "metadata": {
        "id": "LoJL3nkri7G0",
        "colab_type": "code",
        "colab": {}
      },
      "source": [
        "df.dropna(inplace = True)"
      ],
      "execution_count": null,
      "outputs": []
    },
    {
      "cell_type": "code",
      "metadata": {
        "id": "vGjzD8vcjIeq",
        "colab_type": "code",
        "colab": {}
      },
      "source": [
        "text_data = df.values[:,1]"
      ],
      "execution_count": null,
      "outputs": []
    },
    {
      "cell_type": "code",
      "metadata": {
        "id": "gG32P1gXj884",
        "colab_type": "code",
        "colab": {}
      },
      "source": [
        "result = []\n",
        "str_type = type(text_data[0])\n",
        "for text in text_data:\n",
        "    text = text.replace('\\n',' ')\n",
        "    text = text.replace('! ',' ')\n",
        "    text = text.replace(', ',' ')\n",
        "    text = text.replace('-',' ')\n",
        "    text = text.replace('.',' ')\n",
        "    text = text.replace('``',' ')\n",
        "    re.sub('[^A-Za-z]+', '',text)\n",
        "    tmp = text.split(' ')\n",
        "    t2 = []\n",
        "    for words in tmp:\n",
        "        words = words.lower()\n",
        "        t2.append(words)\n",
        "    result.append(t2)"
      ],
      "execution_count": null,
      "outputs": []
    },
    {
      "cell_type": "code",
      "metadata": {
        "id": "WWUws1XWmZmB",
        "colab_type": "code",
        "colab": {}
      },
      "source": [
        "f = open('stopwords-en.txt','r')\n",
        "stopwords = set()\n",
        "for words in f:\n",
        "    stopwords.add(words)\n",
        "stopwords.add(\"said\")\n",
        "stopwords.add(\"government\")\n",
        "stopwords.add('states')\n",
        "stopwords.add('great')\n",
        "stopwords.add('united')\n",
        "stopwords.add('work')\n",
        "stopwords.add('public')\n",
        "stopwords.add('Union')\n",
        "stopwords.add('Address')\n",
        "stopwords.add('america')\n",
        "stopwords.add('let\\'s')\n",
        "stopwords.add('it\\'s')\n",
        "u = 'that\\'s'\n",
        "stopwords.add(u)\n",
        "f.close()"
      ],
      "execution_count": null,
      "outputs": []
    },
    {
      "cell_type": "code",
      "metadata": {
        "id": "94Bhk2lqkAOr",
        "colab_type": "code",
        "colab": {}
      },
      "source": [
        "processed_data = [[token for token in text if (len(token)>3 and token not in STOPWORDS and token not in stopwords)] for text in result]"
      ],
      "execution_count": null,
      "outputs": []
    },
    {
      "cell_type": "code",
      "metadata": {
        "id": "6AJT5EMRlIt9",
        "colab_type": "code",
        "colab": {
          "base_uri": "https://localhost:8080/",
          "height": 34
        },
        "outputId": "d9f204a0-dab8-485c-d58b-7de95f2b2278"
      },
      "source": [
        "dictionary = gensim.corpora.Dictionary(processed_data)\n",
        "print(dictionary)"
      ],
      "execution_count": null,
      "outputs": [
        {
          "output_type": "stream",
          "text": [
            "Dictionary(42719 unique tokens: ['12th', 'adding', 'adult', 'alcohol', 'allegedly']...)\n"
          ],
          "name": "stdout"
        }
      ]
    },
    {
      "cell_type": "code",
      "metadata": {
        "id": "HGnFFUN3ndEu",
        "colab_type": "code",
        "colab": {}
      },
      "source": [
        "bow = [dictionary.doc2bow(text) for text in processed_data]"
      ],
      "execution_count": null,
      "outputs": []
    },
    {
      "cell_type": "code",
      "metadata": {
        "id": "wbEHrMHalLsP",
        "colab_type": "code",
        "colab": {}
      },
      "source": [
        "def lda_coherence(corpus,dictionary,bow):\n",
        "    x = []\n",
        "    y = []\n",
        "    for k in range(20,150,5):\n",
        "        lda_model = models.LdaModel(bow,id2word = dictionary,num_topics = k)\n",
        "        coherence_model = models.CoherenceModel(lda_model,texts = corpus,dictionary = dictionary)\n",
        "        cv = coherence_model.get_coherence()\n",
        "        x.append(k)\n",
        "        y.append(cv)\n",
        "    plt.plot(x,y)\n",
        "    plt.xlabel(\"Number of Topics\")\n",
        "    plt.ylabel(\"Topic coherence\")\n",
        "    plt.title(\"LDA Model\")\n",
        "    plt.show()"
      ],
      "execution_count": null,
      "outputs": []
    },
    {
      "cell_type": "code",
      "metadata": {
        "id": "W2N6u622nYAG",
        "colab_type": "code",
        "colab": {
          "base_uri": "https://localhost:8080/",
          "height": 329
        },
        "outputId": "db297c0d-93e6-4548-e8aa-c65797fc7652"
      },
      "source": [
        "lda_coherence(processed_data,dictionary,bow)"
      ],
      "execution_count": null,
      "outputs": [
        {
          "output_type": "stream",
          "text": [
            "/usr/local/lib/python3.6/dist-packages/gensim/models/ldamodel.py:1023: RuntimeWarning: divide by zero encountered in log\n",
            "  diff = np.log(self.expElogbeta)\n"
          ],
          "name": "stderr"
        },
        {
          "output_type": "display_data",
          "data": {
            "image/png": "[encoded data removed]",
            "text/plain": [
              "<Figure size 432x288 with 1 Axes>"
            ]
          },
          "metadata": {
            "tags": [],
            "needs_background": "light"
          }
        }
      ]
    },
    {
      "cell_type": "code",
      "metadata": {
        "id": "1H_LICAjnd86",
        "colab_type": "code",
        "colab": {}
      },
      "source": [
        "lda_model = models.LdaModel(bow,id2word = dictionary,num_topics = 45)"
      ],
      "execution_count": null,
      "outputs": []
    },
    {
      "cell_type": "code",
      "metadata": {
        "id": "eswfjBp-nj43",
        "colab_type": "code",
        "colab": {
          "base_uri": "https://localhost:8080/",
          "height": 1000
        },
        "outputId": "209c25c9-77ff-4818-85d0-30723642637b"
      },
      "source": [
        "lda_model.show_topics(num_topics = 45)"
      ],
      "execution_count": null,
      "outputs": [
        {
          "output_type": "execute_result",
          "data": {
            "text/plain": [
              "[(0,\n",
              "  '0.024*\"percent\" + 0.007*\"year\" + 0.004*\"economy\" + 0.004*\"economic\" + 0.004*\"billion\" + 0.003*\"business\" + 0.003*\"japan\" + 0.003*\"years\" + 0.003*\"today\" + 0.003*\"increase\"'),\n",
              " (1,\n",
              "  '0.009*\"rights\" + 0.007*\"police\" + 0.006*\"human\" + 0.004*\"group\" + 0.004*\"president\" + 0.003*\"thursday\" + 0.003*\"told\" + 0.003*\"state\" + 0.003*\"people\" + 0.003*\"military\"'),\n",
              " (2,\n",
              "  '0.009*\"gunter\" + 0.005*\"ives\" + 0.005*\"bail\" + 0.005*\"ranch\" + 0.005*\"nosair\" + 0.004*\"kahane\" + 0.004*\"police\" + 0.004*\"court\" + 0.003*\"state\" + 0.003*\"people\"'),\n",
              " (3,\n",
              "  '0.007*\"year\" + 0.006*\"aids\" + 0.005*\"people\" + 0.004*\"percent\" + 0.004*\"study\" + 0.004*\"national\" + 0.004*\"infected\" + 0.003*\"immune\" + 0.003*\"dukakis\" + 0.003*\"virus\"'),\n",
              " (4,\n",
              "  '0.021*\"late\" + 0.019*\"dollar\" + 0.015*\"london\" + 0.014*\"gold\" + 0.012*\"nordstrom\" + 0.011*\"ounce\" + 0.007*\"price\" + 0.007*\"troy\" + 0.007*\"francs\" + 0.006*\"compared\"'),\n",
              " (5,\n",
              "  '0.006*\"state\" + 0.004*\"people\" + 0.004*\"soviet\" + 0.003*\"years\" + 0.003*\"year\" + 0.003*\"time\" + 0.003*\"billion\" + 0.003*\"federal\" + 0.003*\"million\" + 0.003*\"tuesday\"'),\n",
              " (6,\n",
              "  '0.006*\"plane\" + 0.005*\"year\" + 0.005*\"million\" + 0.005*\"officials\" + 0.004*\"aerospace\" + 0.004*\"fiction\" + 0.004*\"federal\" + 0.004*\"filing\" + 0.004*\"awards\" + 0.004*\"howe\"'),\n",
              " (7,\n",
              "  '0.012*\"defense\" + 0.010*\"billion\" + 0.008*\"year\" + 0.007*\"senate\" + 0.007*\"president\" + 0.005*\"million\" + 0.004*\"security\" + 0.004*\"congress\" + 0.004*\"measure\" + 0.004*\"administration\"'),\n",
              " (8,\n",
              "  '0.004*\"market\" + 0.004*\"socialism\" + 0.004*\"parish\" + 0.004*\"percent\" + 0.003*\"nordstrom\" + 0.003*\"west\" + 0.003*\"million\" + 0.003*\"stock\" + 0.003*\"store\" + 0.003*\"listed\"'),\n",
              " (9,\n",
              "  '0.005*\"year\" + 0.005*\"president\" + 0.004*\"percent\" + 0.004*\"workers\" + 0.004*\"state\" + 0.004*\"senate\" + 0.003*\"house\" + 0.003*\"cavazos\" + 0.003*\"sanctions\" + 0.003*\"africa\"'),\n",
              " (10,\n",
              "  '0.018*\"at&t\" + 0.010*\"imperial\" + 0.010*\"dresses\" + 0.009*\"princess\" + 0.008*\"bain\" + 0.007*\"emperor\" + 0.007*\"royal\" + 0.006*\"wedding\" + 0.006*\"palace\" + 0.006*\"at&t\\'s\"'),\n",
              " (11,\n",
              "  '0.004*\"south\" + 0.004*\"national\" + 0.004*\"year\" + 0.003*\"people\" + 0.003*\"years\" + 0.003*\"going\" + 0.003*\"court\" + 0.003*\"trade\" + 0.003*\"north\" + 0.002*\"vote\"'),\n",
              " (12,\n",
              "  '0.006*\"south\" + 0.006*\"german\" + 0.006*\"west\" + 0.006*\"east\" + 0.004*\"germany\" + 0.004*\"convention\" + 0.003*\"like\" + 0.003*\"unification\" + 0.003*\"time\" + 0.003*\"national\"'),\n",
              " (13,\n",
              "  '0.012*\"million\" + 0.006*\"year\" + 0.004*\"market\" + 0.004*\"share\" + 0.004*\"stock\" + 0.003*\"interstate\" + 0.003*\"children\" + 0.003*\"billion\" + 0.003*\"week\" + 0.003*\"filipino\"'),\n",
              " (14,\n",
              "  '0.013*\"macmillan\" + 0.012*\"maxwell\" + 0.005*\"percent\" + 0.004*\"butterfly\" + 0.004*\"year\" + 0.004*\"bass\" + 0.004*\"billion\" + 0.004*\"circles\" + 0.004*\"heath\" + 0.004*\"years\"'),\n",
              " (15,\n",
              "  '0.006*\"million\" + 0.005*\"company\" + 0.004*\"court\" + 0.004*\"year\" + 0.004*\"group\" + 0.004*\"hyundai\" + 0.003*\"president\" + 0.003*\"ruby\" + 0.003*\"york\" + 0.003*\"thursday\"'),\n",
              " (16,\n",
              "  '0.010*\"black\" + 0.008*\"corroon\" + 0.006*\"billion\" + 0.005*\"tenor\" + 0.004*\"rollins\" + 0.004*\"willis\" + 0.003*\"percent\" + 0.003*\"faber\" + 0.003*\"fictional\" + 0.003*\"portrayal\"'),\n",
              " (17,\n",
              "  '0.009*\"police\" + 0.008*\"state\" + 0.006*\"mecham\" + 0.005*\"koch\" + 0.004*\"office\" + 0.004*\"attorney\" + 0.004*\"people\" + 0.003*\"president\" + 0.003*\"years\" + 0.003*\"national\"'),\n",
              " (18,\n",
              "  '0.009*\"shadyside\" + 0.007*\"hunthausen\" + 0.005*\"vatican\" + 0.004*\"archdiocese\" + 0.004*\"archbishop\" + 0.004*\"rome\" + 0.004*\"police\" + 0.004*\"hunthausen\\'s\" + 0.003*\"workers\" + 0.003*\"spiegel\"'),\n",
              " (19,\n",
              "  '0.007*\"bentsen\" + 0.006*\"hepatitis\" + 0.005*\"children\" + 0.005*\"people\" + 0.005*\"earthquake\" + 0.004*\"damage\" + 0.004*\"year\" + 0.003*\"officials\" + 0.003*\"area\" + 0.003*\"magnitude\"'),\n",
              " (20,\n",
              "  '0.008*\"agreement\" + 0.008*\"billion\" + 0.007*\"percent\" + 0.007*\"trade\" + 0.007*\"year\" + 0.006*\"sales\" + 0.004*\"world\" + 0.004*\"president\" + 0.004*\"economic\" + 0.004*\"years\"'),\n",
              " (21,\n",
              "  '0.007*\"bush\" + 0.005*\"year\" + 0.005*\"state\" + 0.005*\"president\" + 0.004*\"school\" + 0.003*\"champion\" + 0.003*\"nomination\" + 0.003*\"people\" + 0.003*\"souter\" + 0.003*\"think\"'),\n",
              " (22,\n",
              "  '0.005*\"million\" + 0.005*\"year\" + 0.004*\"state\" + 0.004*\"people\" + 0.003*\"maung\" + 0.003*\"president\" + 0.003*\"talks\" + 0.003*\"told\" + 0.003*\"hopkins\" + 0.002*\"kashmir\"'),\n",
              " (23,\n",
              "  '0.012*\"south\" + 0.008*\"jupiter\" + 0.007*\"soviet\" + 0.006*\"mandela\" + 0.006*\"african\" + 0.006*\"president\" + 0.005*\"africa\" + 0.005*\"venus\" + 0.005*\"drug\" + 0.004*\"trade\"'),\n",
              " (24,\n",
              "  '0.012*\"owen\" + 0.005*\"year\" + 0.005*\"suitcase\" + 0.005*\"court\" + 0.004*\"cocaine\" + 0.004*\"barahona\" + 0.003*\"police\" + 0.003*\"drug\" + 0.003*\"spain\" + 0.003*\"percent\"'),\n",
              " (25,\n",
              "  '0.010*\"documents\" + 0.008*\"gesell\" + 0.006*\"virus\" + 0.005*\"_air\" + 0.005*\"dexter\" + 0.005*\"north\" + 0.004*\"judge\" + 0.004*\"viruses\" + 0.004*\"celtic\" + 0.003*\"quarantine\"'),\n",
              " (26,\n",
              "  '0.006*\"prison\" + 0.006*\"ring\" + 0.005*\"year\" + 0.005*\"gull\" + 0.004*\"years\" + 0.004*\"time\" + 0.003*\"biography\" + 0.003*\"drug\" + 0.003*\"convicted\" + 0.003*\"eisenmann\"'),\n",
              " (27,\n",
              "  '0.012*\"dollar\" + 0.009*\"late\" + 0.008*\"bank\" + 0.007*\"london\" + 0.007*\"belmont\" + 0.006*\"french\" + 0.006*\"tokyo\" + 0.005*\"central\" + 0.005*\"europe\" + 0.005*\"market\"'),\n",
              " (28,\n",
              "  '0.008*\"pacs\" + 0.005*\"apple\" + 0.005*\"year\" + 0.004*\"time\" + 0.004*\"years\" + 0.004*\"people\" + 0.003*\"dumps\" + 0.003*\"trade\" + 0.003*\"presley\" + 0.003*\"members\"'),\n",
              " (29,\n",
              "  '0.006*\"court\" + 0.005*\"people\" + 0.005*\"abortion\" + 0.005*\"state\" + 0.004*\"police\" + 0.004*\"vote\" + 0.004*\"year\" + 0.003*\"years\" + 0.003*\"office\" + 0.003*\"souter\"'),\n",
              " (30,\n",
              "  '0.008*\"beef\" + 0.005*\"mega\" + 0.004*\"troops\" + 0.004*\"food\" + 0.004*\"million\" + 0.003*\"presidencies\" + 0.003*\"president\" + 0.003*\"year\" + 0.002*\"calls\" + 0.002*\"market\"'),\n",
              " (31,\n",
              "  '0.010*\"genes\" + 0.005*\"gene\" + 0.004*\"bradshaw\" + 0.004*\"fire\\'s\" + 0.003*\"erratic\" + 0.003*\"arts\" + 0.003*\"people\" + 0.003*\"school\" + 0.003*\"years\" + 0.002*\"year\"'),\n",
              " (32,\n",
              "  '0.011*\"trade\" + 0.010*\"cents\" + 0.009*\"lower\" + 0.008*\"higher\" + 0.008*\"cent\" + 0.006*\"thompson\" + 0.006*\"corn\" + 0.006*\"soybean\" + 0.005*\"percent\" + 0.005*\"futures\"'),\n",
              " (33,\n",
              "  '0.008*\"south\" + 0.008*\"communist\" + 0.006*\"leader\" + 0.006*\"party\" + 0.005*\"president\" + 0.005*\"korea\" + 0.003*\"conway\" + 0.003*\"shrouds\" + 0.003*\"security\" + 0.003*\"milan\"'),\n",
              " (34,\n",
              "  '0.013*\"mecham\" + 0.007*\"told\" + 0.006*\"impeachment\" + 0.005*\"measurements\" + 0.005*\"year\" + 0.005*\"craft\" + 0.005*\"court\" + 0.005*\"trial\" + 0.005*\"doctors\" + 0.004*\"milstead\"'),\n",
              " (35,\n",
              "  '0.010*\"attorney\" + 0.007*\"guida\" + 0.007*\"thornburgh\" + 0.006*\"barr\" + 0.006*\"year\" + 0.005*\"general\" + 0.005*\"keefe\" + 0.004*\"sources\" + 0.004*\"state\" + 0.004*\"allegations\"'),\n",
              " (36,\n",
              "  '0.008*\"year\" + 0.005*\"percent\" + 0.005*\"billion\" + 0.005*\"sales\" + 0.005*\"orders\" + 0.004*\"store\" + 0.004*\"million;\" + 0.004*\"roberts\" + 0.003*\"retailers\" + 0.003*\"chains\"'),\n",
              " (37,\n",
              "  '0.007*\"year\" + 0.006*\"house\" + 0.005*\"party\" + 0.004*\"vote\" + 0.003*\"president\" + 0.003*\"garbage\" + 0.003*\"people\" + 0.003*\"years\" + 0.003*\"national\" + 0.003*\"percent\"'),\n",
              " (38,\n",
              "  '0.005*\"toshiba\" + 0.005*\"mobley\" + 0.004*\"time\" + 0.004*\"sony\" + 0.003*\"heat\" + 0.003*\"police\" + 0.003*\"year\" + 0.003*\"years\" + 0.003*\"pepsi\" + 0.003*\"court\"'),\n",
              " (39,\n",
              "  '0.006*\"film\" + 0.005*\"year\" + 0.004*\"china\" + 0.004*\"chinese\" + 0.003*\"mason\" + 0.003*\"years\" + 0.003*\"gambling\" + 0.003*\"sales\" + 0.003*\"people\" + 0.003*\"horse\"'),\n",
              " (40,\n",
              "  '0.025*\"percent\" + 0.013*\"poll\" + 0.012*\"bush\" + 0.008*\"dukakis\" + 0.006*\"support\" + 0.005*\"primary\" + 0.005*\"year\" + 0.005*\"president\" + 0.005*\"million\" + 0.005*\"york\"'),\n",
              " (41,\n",
              "  '0.026*\"percent\" + 0.012*\"stock\" + 0.011*\"year\" + 0.011*\"million\" + 0.009*\"market\" + 0.009*\"index\" + 0.008*\"average\" + 0.008*\"billion\" + 0.008*\"exchange\" + 0.008*\"points\"'),\n",
              " (42,\n",
              "  '0.011*\"people\" + 0.005*\"state\" + 0.004*\"police\" + 0.003*\"kashmir\" + 0.003*\"moslem\" + 0.003*\"killed\" + 0.003*\"india\" + 0.003*\"children\" + 0.003*\"condition\" + 0.003*\"miles\"'),\n",
              " (43,\n",
              "  '0.005*\"police\" + 0.005*\"bank\" + 0.004*\"year\" + 0.004*\"national\" + 0.004*\"officials\" + 0.003*\"force\" + 0.003*\"state\" + 0.003*\"people\" + 0.003*\"home\" + 0.003*\"greece\"'),\n",
              " (44,\n",
              "  '0.012*\"bridal\" + 0.011*\"lafayette\" + 0.007*\"mice\" + 0.004*\"experiments\" + 0.004*\"atkins\" + 0.004*\"styles\" + 0.004*\"memorial\" + 0.003*\"years\" + 0.003*\"britain\" + 0.003*\"york\"')]"
            ]
          },
          "metadata": {
            "tags": []
          },
          "execution_count": 105
        }
      ]
    },
    {
      "cell_type": "code",
      "metadata": {
        "id": "0HeTTbPE2SS0",
        "colab_type": "code",
        "colab": {}
      },
      "source": [
        ""
      ],
      "execution_count": null,
      "outputs": []
    }
  ]
}